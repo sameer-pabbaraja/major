{
 "cells": [
  {
   "cell_type": "code",
   "execution_count": 1,
   "id": "b55723e3",
   "metadata": {
    "ExecuteTime": {
     "end_time": "2022-03-27T10:25:32.346573Z",
     "start_time": "2022-03-27T10:25:32.281301Z"
    }
   },
   "outputs": [
    {
     "data": {
      "text/plain": [
       "True"
      ]
     },
     "execution_count": 1,
     "metadata": {},
     "output_type": "execute_result"
    }
   ],
   "source": [
    "True and True"
   ]
  },
  {
   "cell_type": "code",
   "execution_count": 2,
   "id": "aa8a36cd",
   "metadata": {
    "ExecuteTime": {
     "end_time": "2022-03-27T10:25:47.144297Z",
     "start_time": "2022-03-27T10:25:47.128644Z"
    }
   },
   "outputs": [
    {
     "data": {
      "text/plain": [
       "[True]"
      ]
     },
     "execution_count": 2,
     "metadata": {},
     "output_type": "execute_result"
    }
   ],
   "source": [
    "[True] and [True]"
   ]
  },
  {
   "cell_type": "code",
   "execution_count": 6,
   "id": "929a4b75",
   "metadata": {
    "ExecuteTime": {
     "end_time": "2022-03-27T10:26:54.931198Z",
     "start_time": "2022-03-27T10:26:54.899569Z"
    }
   },
   "outputs": [
    {
     "data": {
      "text/plain": [
       "(True, False)"
      ]
     },
     "execution_count": 6,
     "metadata": {},
     "output_type": "execute_result"
    }
   ],
   "source": [
    "True and True , False"
   ]
  },
  {
   "cell_type": "code",
   "execution_count": 7,
   "id": "258202b5",
   "metadata": {
    "ExecuteTime": {
     "end_time": "2022-03-27T10:27:25.995600Z",
     "start_time": "2022-03-27T10:27:25.971876Z"
    }
   },
   "outputs": [
    {
     "data": {
      "text/plain": [
       "(True, False)"
      ]
     },
     "execution_count": 7,
     "metadata": {},
     "output_type": "execute_result"
    }
   ],
   "source": [
    "True, False and False"
   ]
  },
  {
   "cell_type": "code",
   "execution_count": null,
   "id": "95e38024",
   "metadata": {},
   "outputs": [],
   "source": []
  }
 ],
 "metadata": {
  "kernelspec": {
   "display_name": "Python 3 (ipykernel)",
   "language": "python",
   "name": "python3"
  },
  "language_info": {
   "codemirror_mode": {
    "name": "ipython",
    "version": 3
   },
   "file_extension": ".py",
   "mimetype": "text/x-python",
   "name": "python",
   "nbconvert_exporter": "python",
   "pygments_lexer": "ipython3",
   "version": "3.10.2"
  }
 },
 "nbformat": 4,
 "nbformat_minor": 5
}
